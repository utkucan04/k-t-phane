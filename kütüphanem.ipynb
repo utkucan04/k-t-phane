{
  "nbformat": 4,
  "nbformat_minor": 0,
  "metadata": {
    "colab": {
      "provenance": [],
      "authorship_tag": "ABX9TyMtbEzgsq9R1A9dz+kuJ7v5",
      "include_colab_link": true
    },
    "kernelspec": {
      "name": "python3",
      "display_name": "Python 3"
    },
    "language_info": {
      "name": "python"
    }
  },
  "cells": [
    {
      "cell_type": "markdown",
      "metadata": {
        "id": "view-in-github",
        "colab_type": "text"
      },
      "source": [
        "<a href=\"https://colab.research.google.com/github/utkucan04/k-t-phane/blob/main/k%C3%BCt%C3%BCphanem.ipynb\" target=\"_parent\"><img src=\"https://colab.research.google.com/assets/colab-badge.svg\" alt=\"Open In Colab\"/></a>"
      ]
    },
    {
      "cell_type": "code",
      "source": [
        "class menu_sistemi:\n",
        "    def __init__(self):\n",
        "        self.kitaplık = []\n",
        "\n",
        "    def karsilama(program_adi):\n",
        "        print(f\"{program_adi} programına hoşgeldiniz \\n\")\n",
        "\n",
        "    def kitap_ekle(self):\n",
        "        k_adi = input(\"Kitabın ismini giriniz: \")\n",
        "        k_yazar = input(\"Kitabın yazarını giriniz: \")\n",
        "        kitap = f\"{k_adi} - {k_yazar}\"\n",
        "        self.kitaplık.append(kitap)\n",
        "        print(\"Kitap eklendi:\", kitap, \"\\n\")\n",
        "\n",
        "    def kitap_ara(self):\n",
        "        arama = input(\"Kitap aramak için kelime girin: \")\n",
        "        bulundu = False\n",
        "        for satir in self.kitaplık:\n",
        "            if arama.lower() in satir.lower():\n",
        "                print(\"Kitap mevcut:\", satir)\n",
        "                bulundu = True\n",
        "        if not bulundu:\n",
        "            print(\"Aradığınız kitap yok.\\n\")\n",
        "\n",
        "    def cikis_yap():\n",
        "        print(\"Çıkış yapılıyor...\")\n",
        "        exit()\n",
        "\n",
        "    def menu_calistir(self):\n",
        "        menu = {\n",
        "            \"1\": self.kitap_ekle,\n",
        "            \"2\": self.kitap_ara,\n",
        "            \"3\": menu_sistemi.cikis_yap\n",
        "        }\n",
        "        while True:\n",
        "            print(\"Menü:\")\n",
        "            print(\"1. Kitap ekle\")\n",
        "            print(\"2. Kitap ara\")\n",
        "            print(\"3. Çıkış\\n\")\n",
        "            secim = input(\"Lütfen yapmak istediğiniz işlemin numarasını yazınız: \")\n",
        "            if secim in menu:\n",
        "                menu[secim]()\n",
        "            else:\n",
        "                print(\"Geçersiz seçim. Tekrar deneyin.\\n\")\n",
        "\n",
        "if __name__ == \"__main__\":\n",
        "    menu_sistemi.karsilama(\"KİTAPLIK UYGULAMASI\")\n",
        "    kitaplik_uygulamasi = menu_sistemi()\n",
        "    kitaplik_uygulamasi.menu_calistir()"
      ],
      "metadata": {
        "colab": {
          "base_uri": "https://localhost:8080/"
        },
        "id": "KkMjveroz-3T",
        "outputId": "f2733dfc-6dde-412a-84ba-b0bbadca759f"
      },
      "execution_count": null,
      "outputs": [
        {
          "output_type": "stream",
          "name": "stdout",
          "text": [
            "KİTAPLIK UYGULAMASI programına hoşgeldiniz \n",
            "\n",
            "Menü:\n",
            "1. Kitap ekle\n",
            "2. Kitap ara\n",
            "3. Çıkış\n",
            "\n"
          ]
        }
      ]
    }
  ]
}